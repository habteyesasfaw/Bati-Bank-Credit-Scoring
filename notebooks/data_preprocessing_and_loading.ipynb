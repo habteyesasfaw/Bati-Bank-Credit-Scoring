{
 "cells": [
  {
   "cell_type": "markdown",
   "metadata": {},
   "source": [
    "# Importing required libraries\n"
   ]
  },
  {
   "cell_type": "code",
   "execution_count": 1,
   "metadata": {},
   "outputs": [],
   "source": [
    "import pandas as pd\n",
    "import numpy as np\n",
    "import warnings\n",
    "warnings.filterwarnings('ignore')"
   ]
  },
  {
   "cell_type": "markdown",
   "metadata": {},
   "source": [
    "# Load the dataset\n"
   ]
  },
  {
   "cell_type": "code",
   "execution_count": 2,
   "metadata": {},
   "outputs": [],
   "source": [
    "df = pd.read_csv('../data/data.csv')"
   ]
  },
  {
   "cell_type": "markdown",
   "metadata": {},
   "source": [
    "# Overview of the Data\n"
   ]
  },
  {
   "cell_type": "code",
   "execution_count": 13,
   "metadata": {},
   "outputs": [
    {
     "name": "stdout",
     "output_type": "stream",
     "text": [
      "Dataset Shape: (95662, 16)\n",
      "\n",
      "Column Information:\n",
      "                               Column Name Data Type  Non-Null Count\n",
      "TransactionId                TransactionId    object           95662\n",
      "BatchId                            BatchId    object           95662\n",
      "AccountId                        AccountId    object           95662\n",
      "SubscriptionId              SubscriptionId    object           95662\n",
      "CustomerId                      CustomerId    object           95662\n",
      "CurrencyCode                  CurrencyCode    object           95662\n",
      "CountryCode                    CountryCode     int64           95662\n",
      "ProviderId                      ProviderId    object           95662\n",
      "ProductId                        ProductId    object           95662\n",
      "ProductCategory            ProductCategory    object           95662\n",
      "ChannelId                        ChannelId    object           95662\n",
      "Amount                              Amount   float64           95662\n",
      "Value                                Value     int64           95662\n",
      "TransactionStartTime  TransactionStartTime    object           95662\n",
      "PricingStrategy            PricingStrategy     int64           95662\n",
      "FraudResult                    FraudResult     int64           95662\n"
     ]
    }
   ],
   "source": [
    "print(\"Dataset Shape:\", df.shape)\n",
    "columns_info = pd.DataFrame({\n",
    "    'Column Name': df.columns,\n",
    "    'Data Type': df.dtypes,\n",
    "    'Non-Null Count': df.notnull().sum()\n",
    "})\n",
    "\n",
    "# Display the columns information in a table format\n",
    "print(\"\\nColumn Information:\")\n",
    "print(columns_info)"
   ]
  },
  {
   "cell_type": "markdown",
   "metadata": {},
   "source": [
    "# Check for Missing Values\n"
   ]
  },
  {
   "cell_type": "code",
   "execution_count": 9,
   "metadata": {},
   "outputs": [
    {
     "name": "stdout",
     "output_type": "stream",
     "text": [
      "Missing Values:\n",
      " TransactionId           0\n",
      "BatchId                 0\n",
      "AccountId               0\n",
      "SubscriptionId          0\n",
      "CustomerId              0\n",
      "CurrencyCode            0\n",
      "CountryCode             0\n",
      "ProviderId              0\n",
      "ProductId               0\n",
      "ProductCategory         0\n",
      "ChannelId               0\n",
      "Amount                  0\n",
      "Value                   0\n",
      "TransactionStartTime    0\n",
      "PricingStrategy         0\n",
      "FraudResult             0\n",
      "dtype: int64\n"
     ]
    }
   ],
   "source": [
    "print(\"Missing Values:\\n\", df.isnull().sum())"
   ]
  },
  {
   "cell_type": "code",
   "execution_count": 11,
   "metadata": {},
   "outputs": [
    {
     "name": "stdout",
     "output_type": "stream",
     "text": [
      "Data Preprocessing Completed. Cleaned Data saved.\n"
     ]
    }
   ],
   "source": [
    "\n",
    "# Save cleaned data for future tasks\n",
    "df.to_csv('cleaned_xente_data.csv', index=False)\n",
    "\n",
    "# Output summary\n",
    "print(\"Data Preprocessing Completed. Cleaned Data saved.\")"
   ]
  }
 ],
 "metadata": {
  "kernelspec": {
   "display_name": "venv",
   "language": "python",
   "name": "python3"
  },
  "language_info": {
   "codemirror_mode": {
    "name": "ipython",
    "version": 3
   },
   "file_extension": ".py",
   "mimetype": "text/x-python",
   "name": "python",
   "nbconvert_exporter": "python",
   "pygments_lexer": "ipython3",
   "version": "3.12.7"
  }
 },
 "nbformat": 4,
 "nbformat_minor": 2
}
