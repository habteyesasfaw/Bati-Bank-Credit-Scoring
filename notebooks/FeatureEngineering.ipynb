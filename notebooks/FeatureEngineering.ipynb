{
 "cells": [
  {
   "cell_type": "markdown",
   "metadata": {},
   "source": [
    "# Importing required libraries\n"
   ]
  },
  {
   "cell_type": "code",
   "execution_count": 1,
   "metadata": {},
   "outputs": [],
   "source": [
    "import pandas as pd\n",
    "from sklearn.preprocessing import StandardScaler, OneHotEncoder\n",
    "from sklearn.impute import SimpleImputer"
   ]
  },
  {
   "cell_type": "markdown",
   "metadata": {},
   "source": [
    "# Load the dataset\n"
   ]
  },
  {
   "cell_type": "code",
   "execution_count": 2,
   "metadata": {},
   "outputs": [],
   "source": [
    "df = pd.read_csv('../data/cleaned_xente_data.csv')"
   ]
  },
  {
   "cell_type": "markdown",
   "metadata": {},
   "source": [
    "## Creating Aggregate Features\n"
   ]
  },
  {
   "cell_type": "code",
   "execution_count": 3,
   "metadata": {},
   "outputs": [],
   "source": [
    "df['Total_Transaction_Amount'] = df.groupby('CustomerId')['Amount'].transform('sum')\n",
    "df['Average_Transaction_Amount'] = df.groupby('CustomerId')['Amount'].transform('mean')\n",
    "df['Transaction_Count'] = df.groupby('CustomerId')['TransactionId'].transform('count')\n",
    "df['Transaction_Std'] = df.groupby('CustomerId')['Amount'].transform('std')"
   ]
  },
  {
   "cell_type": "markdown",
   "metadata": {},
   "source": [
    "## Extracting Date-Time Features\n"
   ]
  },
  {
   "cell_type": "code",
   "execution_count": 4,
   "metadata": {},
   "outputs": [],
   "source": [
    "df['Transaction_Hour'] = pd.to_datetime(df['TransactionStartTime']).dt.hour\n",
    "df['Transaction_Day'] = pd.to_datetime(df['TransactionStartTime']).dt.day\n",
    "df['Transaction_Month'] = pd.to_datetime(df['TransactionStartTime']).dt.month\n",
    "df['Transaction_Year'] = pd.to_datetime(df['TransactionStartTime']).dt.year"
   ]
  },
  {
   "cell_type": "markdown",
   "metadata": {},
   "source": [
    "## Encoding Categorical Variables using One-Hot Encoding\n"
   ]
  },
  {
   "cell_type": "code",
   "execution_count": 5,
   "metadata": {},
   "outputs": [],
   "source": [
    "categorical_vars = ['CurrencyCode', 'CountryCode', 'ProviderId', 'ProductCategory']\n",
    "df_encoded = pd.get_dummies(df, columns=categorical_vars)"
   ]
  },
  {
   "cell_type": "markdown",
   "metadata": {},
   "source": [
    "## Handling Missing Values\n"
   ]
  },
  {
   "cell_type": "code",
   "execution_count": 9,
   "metadata": {},
   "outputs": [
    {
     "name": "stdout",
     "output_type": "stream",
     "text": [
      "TransactionId                         0\n",
      "BatchId                               0\n",
      "AccountId                             0\n",
      "SubscriptionId                        0\n",
      "CustomerId                            0\n",
      "ProductId                             0\n",
      "ChannelId                             0\n",
      "Amount                                0\n",
      "Value                                 0\n",
      "TransactionStartTime                  0\n",
      "PricingStrategy                       0\n",
      "FraudResult                           0\n",
      "Total_Transaction_Amount              0\n",
      "Average_Transaction_Amount            0\n",
      "Transaction_Count                     0\n",
      "Transaction_Std                       0\n",
      "Transaction_Hour                      0\n",
      "Transaction_Day                       0\n",
      "Transaction_Month                     0\n",
      "Transaction_Year                      0\n",
      "CurrencyCode_UGX                      0\n",
      "CountryCode_256                       0\n",
      "ProviderId_ProviderId_1               0\n",
      "ProviderId_ProviderId_2               0\n",
      "ProviderId_ProviderId_3               0\n",
      "ProviderId_ProviderId_4               0\n",
      "ProviderId_ProviderId_5               0\n",
      "ProviderId_ProviderId_6               0\n",
      "ProductCategory_airtime               0\n",
      "ProductCategory_data_bundles          0\n",
      "ProductCategory_financial_services    0\n",
      "ProductCategory_movies                0\n",
      "ProductCategory_other                 0\n",
      "ProductCategory_ticket                0\n",
      "ProductCategory_transport             0\n",
      "ProductCategory_tv                    0\n",
      "ProductCategory_utility_bill          0\n",
      "dtype: int64\n"
     ]
    }
   ],
   "source": [
    "numeric_cols = df_encoded.select_dtypes(include=['float64', 'int64']).columns\n",
    "\n",
    "# Create the SimpleImputer\n",
    "imputer = SimpleImputer(strategy='mean')\n",
    "# Apply imputer only to the numeric columns\n",
    "df_encoded[numeric_cols] = imputer.fit_transform(df_encoded[numeric_cols])\n",
    "\n",
    "# If you want to check if there are still missing values\n",
    "print(df_encoded.isnull().sum())"
   ]
  }
 ],
 "metadata": {
  "kernelspec": {
   "display_name": "venv",
   "language": "python",
   "name": "python3"
  },
  "language_info": {
   "codemirror_mode": {
    "name": "ipython",
    "version": 3
   },
   "file_extension": ".py",
   "mimetype": "text/x-python",
   "name": "python",
   "nbconvert_exporter": "python",
   "pygments_lexer": "ipython3",
   "version": "3.12.7"
  }
 },
 "nbformat": 4,
 "nbformat_minor": 2
}
