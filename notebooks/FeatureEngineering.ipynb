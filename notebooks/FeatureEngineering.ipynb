{
 "cells": [
  {
   "cell_type": "markdown",
   "metadata": {},
   "source": [
    "# Importing required libraries\n"
   ]
  },
  {
   "cell_type": "code",
   "execution_count": 1,
   "metadata": {},
   "outputs": [],
   "source": [
    "import pandas as pd\n",
    "from sklearn.preprocessing import StandardScaler, OneHotEncoder\n",
    "from sklearn.impute import SimpleImputer"
   ]
  },
  {
   "cell_type": "markdown",
   "metadata": {},
   "source": [
    "# Load the dataset\n"
   ]
  },
  {
   "cell_type": "code",
   "execution_count": 2,
   "metadata": {},
   "outputs": [],
   "source": [
    "df = pd.read_csv('../data/cleaned_xente_data.csv')"
   ]
  },
  {
   "cell_type": "markdown",
   "metadata": {},
   "source": [
    "## Creating Aggregate Features\n"
   ]
  },
  {
   "cell_type": "code",
   "execution_count": 3,
   "metadata": {},
   "outputs": [],
   "source": [
    "df['Total_Transaction_Amount'] = df.groupby('CustomerId')['Amount'].transform('sum')\n",
    "df['Average_Transaction_Amount'] = df.groupby('CustomerId')['Amount'].transform('mean')\n",
    "df['Transaction_Count'] = df.groupby('CustomerId')['TransactionId'].transform('count')\n",
    "df['Transaction_Std'] = df.groupby('CustomerId')['Amount'].transform('std')"
   ]
  },
  {
   "cell_type": "markdown",
   "metadata": {},
   "source": [
    "## Extracting Date-Time Features\n"
   ]
  },
  {
   "cell_type": "code",
   "execution_count": null,
   "metadata": {},
   "outputs": [],
   "source": [
    "df['Transaction_Hour'] = pd.to_datetime(df['TransactionStartTime']).dt.hour\n",
    "df['Transaction_Day'] = pd.to_datetime(df['TransactionStartTime']).dt.day\n",
    "df['Transaction_Month'] = pd.to_datetime(df['TransactionStartTime']).dt.month\n",
    "df['Transaction_Year'] = pd.to_datetime(df['TransactionStartTime']).dt.year"
   ]
  }
 ],
 "metadata": {
  "kernelspec": {
   "display_name": "venv",
   "language": "python",
   "name": "python3"
  },
  "language_info": {
   "codemirror_mode": {
    "name": "ipython",
    "version": 3
   },
   "file_extension": ".py",
   "mimetype": "text/x-python",
   "name": "python",
   "nbconvert_exporter": "python",
   "pygments_lexer": "ipython3",
   "version": "3.12.7"
  }
 },
 "nbformat": 4,
 "nbformat_minor": 2
}
