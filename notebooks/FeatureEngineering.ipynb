{
 "cells": [
  {
   "cell_type": "markdown",
   "metadata": {},
   "source": [
    "# Importing required libraries\n"
   ]
  },
  {
   "cell_type": "code",
   "execution_count": 11,
   "metadata": {},
   "outputs": [],
   "source": [
    "import pandas as pd\n",
    "from sklearn.preprocessing import StandardScaler, OneHotEncoder\n",
    "from sklearn.impute import SimpleImputer\n",
    "import numpy as np\n"
   ]
  },
  {
   "cell_type": "markdown",
   "metadata": {},
   "source": [
    "# Load the dataset\n"
   ]
  },
  {
   "cell_type": "code",
   "execution_count": 2,
   "metadata": {},
   "outputs": [],
   "source": [
    "df = pd.read_csv('../data/cleaned_xente_data.csv')"
   ]
  },
  {
   "cell_type": "markdown",
   "metadata": {},
   "source": [
    "## Creating Aggregate Features\n"
   ]
  },
  {
   "cell_type": "code",
   "execution_count": 3,
   "metadata": {},
   "outputs": [],
   "source": [
    "df['Total_Transaction_Amount'] = df.groupby('CustomerId')['Amount'].transform('sum')\n",
    "df['Average_Transaction_Amount'] = df.groupby('CustomerId')['Amount'].transform('mean')\n",
    "df['Transaction_Count'] = df.groupby('CustomerId')['TransactionId'].transform('count')\n",
    "df['Transaction_Std'] = df.groupby('CustomerId')['Amount'].transform('std')"
   ]
  },
  {
   "cell_type": "markdown",
   "metadata": {},
   "source": [
    "## Extracting Date-Time Features\n"
   ]
  },
  {
   "cell_type": "code",
   "execution_count": 4,
   "metadata": {},
   "outputs": [],
   "source": [
    "df['Transaction_Hour'] = pd.to_datetime(df['TransactionStartTime']).dt.hour\n",
    "df['Transaction_Day'] = pd.to_datetime(df['TransactionStartTime']).dt.day\n",
    "df['Transaction_Month'] = pd.to_datetime(df['TransactionStartTime']).dt.month\n",
    "df['Transaction_Year'] = pd.to_datetime(df['TransactionStartTime']).dt.year"
   ]
  },
  {
   "cell_type": "markdown",
   "metadata": {},
   "source": [
    "## Encoding Categorical Variables using One-Hot Encoding\n"
   ]
  },
  {
   "cell_type": "code",
   "execution_count": 5,
   "metadata": {},
   "outputs": [],
   "source": [
    "categorical_vars = ['CurrencyCode', 'CountryCode', 'ProviderId', 'ProductCategory']\n",
    "df_encoded = pd.get_dummies(df, columns=categorical_vars)"
   ]
  },
  {
   "cell_type": "markdown",
   "metadata": {},
   "source": [
    "## Handling Missing Values\n"
   ]
  },
  {
   "cell_type": "code",
   "execution_count": null,
   "metadata": {},
   "outputs": [],
   "source": [
    "numeric_cols = df_encoded.select_dtypes(include=['float64', 'int64']).columns\n",
    "\n",
    "# Create the SimpleImputer\n",
    "imputer = SimpleImputer(strategy='mean')\n",
    "# Apply imputer only to the numeric columns\n",
    "df_encoded[numeric_cols] = imputer.fit_transform(df_encoded[numeric_cols])\n",
    "\n",
    "# If you want to check if there are still missing value\n",
    "print(df_encoded.isnull().sum())"
   ]
  },
  {
   "cell_type": "markdown",
   "metadata": {},
   "source": [
    "## Normalizing/Standardizing Numerical Features\n"
   ]
  },
  {
   "cell_type": "code",
   "execution_count": 12,
   "metadata": {},
   "outputs": [],
   "source": [
    "scaler = StandardScaler()\n",
    "df_encoded[df_encoded.select_dtypes(include=[np.number]).columns] = scaler.fit_transform(df_encoded.select_dtypes(include=[np.number]))\n"
   ]
  },
  {
   "cell_type": "code",
   "execution_count": 13,
   "metadata": {},
   "outputs": [
    {
     "name": "stdout",
     "output_type": "stream",
     "text": [
      "Feature Engineering Completed.\n"
     ]
    }
   ],
   "source": [
    "# Save feature-engineered data\n",
    "df_encoded.to_csv('feature_engineered_data.csv', index=False)\n",
    "\n",
    "print(\"Feature Engineering Completed.\")"
   ]
  }
 ],
 "metadata": {
  "kernelspec": {
   "display_name": "venv",
   "language": "python",
   "name": "python3"
  },
  "language_info": {
   "codemirror_mode": {
    "name": "ipython",
    "version": 3
   },
   "file_extension": ".py",
   "mimetype": "text/x-python",
   "name": "python",
   "nbconvert_exporter": "python",
   "pygments_lexer": "ipython3",
   "version": "3.12.7"
  }
 },
 "nbformat": 4,
 "nbformat_minor": 2
}
