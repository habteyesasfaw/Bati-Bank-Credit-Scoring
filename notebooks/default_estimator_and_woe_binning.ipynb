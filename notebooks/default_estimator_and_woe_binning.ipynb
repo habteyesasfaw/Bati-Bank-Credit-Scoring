{
 "cells": [
  {
   "cell_type": "markdown",
   "metadata": {},
   "source": [
    "# Importing required libraries\n"
   ]
  },
  {
   "cell_type": "code",
   "execution_count": 1,
   "metadata": {},
   "outputs": [],
   "source": [
    "import pandas as pd\n",
    "import numpy as np\n",
    "import matplotlib.pyplot as plt\n",
    "import seaborn as sns\n",
    "from sklearn.preprocessing import KBinsDiscretizer\n",
    "from sklearn.metrics import roc_auc_score"
   ]
  },
  {
   "cell_type": "code",
   "execution_count": 2,
   "metadata": {},
   "outputs": [],
   "source": [
    "df = pd.read_csv('../data/cleaned_xente_data.csv')"
   ]
  },
  {
   "cell_type": "code",
   "execution_count": 3,
   "metadata": {},
   "outputs": [
    {
     "name": "stdout",
     "output_type": "stream",
     "text": [
      "Dataset Shape: (95662, 16)\n",
      "Data Types:\n",
      " TransactionId            object\n",
      "BatchId                  object\n",
      "AccountId                object\n",
      "SubscriptionId           object\n",
      "CustomerId               object\n",
      "CurrencyCode             object\n",
      "CountryCode               int64\n",
      "ProviderId               object\n",
      "ProductId                object\n",
      "ProductCategory          object\n",
      "ChannelId                object\n",
      "Amount                  float64\n",
      "Value                     int64\n",
      "TransactionStartTime     object\n",
      "PricingStrategy           int64\n",
      "FraudResult               int64\n",
      "dtype: object\n"
     ]
    }
   ],
   "source": [
    "# Data Preparation: Check the structure of the DataFrame\n",
    "print(\"Dataset Shape:\", df.shape)\n",
    "print(\"Data Types:\\n\", df.dtypes)"
   ]
  },
  {
   "cell_type": "markdown",
   "metadata": {},
   "source": [
    "# Define RFMS calculation function\n"
   ]
  },
  {
   "cell_type": "code",
   "execution_count": 5,
   "metadata": {},
   "outputs": [],
   "source": [
    "def calculate_rfms(df):\n",
    "    \"\"\"\n",
    "    Function to calculate RFMS score for each user.\n",
    "    RFMS (Recency, Frequency, Monetary, Score) - Higher values indicate better customers.\n",
    "    \"\"\"\n",
    "    recency = df.groupby('CustomerId')['TransactionStartTime'].max().reset_index()\n",
    "    recency['Recency'] = (pd.to_datetime('today') - pd.to_datetime(recency['TransactionStartTime'])).dt.days\n",
    "    recency = recency[['CustomerId', 'Recency']]\n",
    "    \n",
    "    frequency = df.groupby('CustomerId')['TransactionId'].count().reset_index()\n",
    "    frequency.columns = ['CustomerId', 'Frequency']\n",
    "    \n",
    "    monetary = df.groupby('CustomerId')['Amount'].sum().reset_index()\n",
    "    monetary.columns = ['CustomerId', 'Monetary']\n",
    "    \n",
    "    rfms = recency.merge(frequency, on='CustomerId').merge(monetary, on='CustomerId')\n",
    "    \n",
    "    # Calculate RFMS score (you can modify the weights as per your criteria)\n",
    "    rfms['RFMS'] = (1 / rfms['Recency']) + (rfms['Frequency']) + (rfms['Monetary'] / 1000)  # Adjust Monetary scale\n",
    "    return rfms"
   ]
  },
  {
   "cell_type": "code",
   "execution_count": null,
   "metadata": {},
   "outputs": [],
   "source": []
  }
 ],
 "metadata": {
  "kernelspec": {
   "display_name": "venv",
   "language": "python",
   "name": "python3"
  },
  "language_info": {
   "codemirror_mode": {
    "name": "ipython",
    "version": 3
   },
   "file_extension": ".py",
   "mimetype": "text/x-python",
   "name": "python",
   "nbconvert_exporter": "python",
   "pygments_lexer": "ipython3",
   "version": "3.12.7"
  }
 },
 "nbformat": 4,
 "nbformat_minor": 2
}
