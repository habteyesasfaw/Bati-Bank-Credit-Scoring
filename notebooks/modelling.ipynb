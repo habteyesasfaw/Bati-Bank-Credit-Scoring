{
 "cells": [
  {
   "cell_type": "markdown",
   "metadata": {},
   "source": [
    "# Importing required libraries\n"
   ]
  },
  {
   "cell_type": "code",
   "execution_count": 1,
   "metadata": {},
   "outputs": [],
   "source": [
    "import pandas as pd\n",
    "from sklearn.model_selection import train_test_split\n",
    "from sklearn.ensemble import RandomForestClassifier\n",
    "from sklearn.linear_model import LogisticRegression\n",
    "from sklearn.tree import DecisionTreeClassifier\n",
    "from sklearn.metrics import classification_report, roc_auc_score, confusion_matrix, accuracy_score\n",
    "from sklearn.preprocessing import LabelEncoder, StandardScaler\n",
    "import joblib\n",
    "\n"
   ]
  },
  {
   "cell_type": "markdown",
   "metadata": {},
   "source": [
    "# Load the feature-engineered dataset\n"
   ]
  },
  {
   "cell_type": "code",
   "execution_count": 2,
   "metadata": {},
   "outputs": [],
   "source": [
    "df = pd.read_csv('../data/rfms_with_default_estimator.csv')"
   ]
  },
  {
   "cell_type": "code",
   "execution_count": 3,
   "metadata": {},
   "outputs": [],
   "source": [
    "# Identify categorical columns\n",
    "categorical_columns = df.select_dtypes(include=['object']).columns\n",
    "\n",
    "# Use Label Encoding for high-cardinality categorical columns\n",
    "label_encoder = LabelEncoder()"
   ]
  },
  {
   "cell_type": "code",
   "execution_count": 4,
   "metadata": {},
   "outputs": [
    {
     "name": "stdout",
     "output_type": "stream",
     "text": [
      "Encoding high-cardinality column: CustomerId with 3742 unique values.\n"
     ]
    }
   ],
   "source": [
    "# Identify categorical columns\n",
    "categorical_columns = df.select_dtypes(include=['object']).columns\n",
    "\n",
    "# Check if there are any categorical columns\n",
    "if len(categorical_columns) > 0:\n",
    "    # Use Label Encoding for high-cardinality categorical columns\n",
    "    label_encoder = LabelEncoder()\n",
    "\n",
    "    # Loop through the categorical columns and apply LabelEncoder where appropriate\n",
    "    for col in categorical_columns:\n",
    "        unique_vals = df[col].nunique()\n",
    "        if unique_vals > 100:  # Threshold for high cardinality (adjust if necessary)\n",
    "            print(f\"Encoding high-cardinality column: {col} with {unique_vals} unique values.\")\n",
    "            df[col] = label_encoder.fit_transform(df[col])\n",
    "        else:\n",
    "            # For low-cardinality columns, use One-Hot Encoding\n",
    "            df = pd.get_dummies(df, columns=[col], drop_first=True)\n",
    "else:\n",
    "    print(\"No categorical columns found.\")"
   ]
  },
  {
   "cell_type": "code",
   "execution_count": 6,
   "metadata": {},
   "outputs": [
    {
     "data": {
      "text/plain": [
       "Index(['CustomerId', 'Recency', 'Frequency', 'Monetary', 'Default_Estimator',\n",
       "       'RFMS'],\n",
       "      dtype='object')"
      ]
     },
     "execution_count": 6,
     "metadata": {},
     "output_type": "execute_result"
    }
   ],
   "source": [
    "df.columns"
   ]
  },
  {
   "cell_type": "code",
   "execution_count": 9,
   "metadata": {},
   "outputs": [
    {
     "data": {
      "text/html": [
       "<div>\n",
       "<style scoped>\n",
       "    .dataframe tbody tr th:only-of-type {\n",
       "        vertical-align: middle;\n",
       "    }\n",
       "\n",
       "    .dataframe tbody tr th {\n",
       "        vertical-align: top;\n",
       "    }\n",
       "\n",
       "    .dataframe thead th {\n",
       "        text-align: right;\n",
       "    }\n",
       "</style>\n",
       "<table border=\"1\" class=\"dataframe\">\n",
       "  <thead>\n",
       "    <tr style=\"text-align: right;\">\n",
       "      <th></th>\n",
       "      <th>CustomerId</th>\n",
       "      <th>Recency</th>\n",
       "      <th>Frequency</th>\n",
       "      <th>Monetary</th>\n",
       "      <th>Default_Estimator</th>\n",
       "      <th>RFMS</th>\n",
       "    </tr>\n",
       "  </thead>\n",
       "  <tbody>\n",
       "    <tr>\n",
       "      <th>0</th>\n",
       "      <td>0</td>\n",
       "      <td>2144</td>\n",
       "      <td>1</td>\n",
       "      <td>-10000.0</td>\n",
       "      <td>1</td>\n",
       "      <td>-7855.0</td>\n",
       "    </tr>\n",
       "    <tr>\n",
       "      <th>1</th>\n",
       "      <td>1</td>\n",
       "      <td>2144</td>\n",
       "      <td>1</td>\n",
       "      <td>-10000.0</td>\n",
       "      <td>1</td>\n",
       "      <td>-7855.0</td>\n",
       "    </tr>\n",
       "    <tr>\n",
       "      <th>2</th>\n",
       "      <td>2</td>\n",
       "      <td>2149</td>\n",
       "      <td>5</td>\n",
       "      <td>20000.0</td>\n",
       "      <td>0</td>\n",
       "      <td>22154.0</td>\n",
       "    </tr>\n",
       "    <tr>\n",
       "      <th>3</th>\n",
       "      <td>3</td>\n",
       "      <td>2086</td>\n",
       "      <td>11</td>\n",
       "      <td>4225.0</td>\n",
       "      <td>0</td>\n",
       "      <td>6322.0</td>\n",
       "    </tr>\n",
       "    <tr>\n",
       "      <th>4</th>\n",
       "      <td>4</td>\n",
       "      <td>2072</td>\n",
       "      <td>6</td>\n",
       "      <td>20000.0</td>\n",
       "      <td>0</td>\n",
       "      <td>22078.0</td>\n",
       "    </tr>\n",
       "  </tbody>\n",
       "</table>\n",
       "</div>"
      ],
      "text/plain": [
       "   CustomerId  Recency  Frequency  Monetary  Default_Estimator     RFMS\n",
       "0           0     2144          1  -10000.0                  1  -7855.0\n",
       "1           1     2144          1  -10000.0                  1  -7855.0\n",
       "2           2     2149          5   20000.0                  0  22154.0\n",
       "3           3     2086         11    4225.0                  0   6322.0\n",
       "4           4     2072          6   20000.0                  0  22078.0"
      ]
     },
     "execution_count": 9,
     "metadata": {},
     "output_type": "execute_result"
    }
   ],
   "source": [
    "df.head()"
   ]
  },
  {
   "cell_type": "code",
   "execution_count": 17,
   "metadata": {},
   "outputs": [
    {
     "name": "stdout",
     "output_type": "stream",
     "text": [
      "Features (X) shape: (3742, 3)\n",
      "Target (y) shape: (3742,)\n"
     ]
    }
   ],
   "source": [
    "# # Define target and features\n",
    "# X = df.drop(columns='Default_Estimator')  # Assuming 'Default_Estimator' is the target variable\n",
    "# y = df['Default_Estimator']\n",
    "# Define target and features\n",
    "y = df['Default_Estimator']  # Target\n",
    "X = df[['Recency', 'Frequency', 'Monetary']]  # Features\n",
    "\n",
    "# Display the shape of X and y\n",
    "print(\"Features (X) shape:\", X.shape)\n",
    "print(\"Target (y) shape:\", y.shape)\n"
   ]
  },
  {
   "cell_type": "code",
   "execution_count": 18,
   "metadata": {},
   "outputs": [],
   "source": [
    "# Standardize the numeric features\n",
    "scaler = StandardScaler()\n",
    "X_scaled = scaler.fit_transform(X)\n",
    "\n",
    "# Split the data into train and test sets\n",
    "X_train, X_test, y_train, y_test = train_test_split(X_scaled, y, test_size=0.3, random_state=42)\n"
   ]
  },
  {
   "cell_type": "code",
   "execution_count": 19,
   "metadata": {},
   "outputs": [
    {
     "name": "stdout",
     "output_type": "stream",
     "text": [
      "[1 0]\n"
     ]
    }
   ],
   "source": [
    "# Ensure target is categorical\n",
    "y = df['Default_Estimator']\n",
    "\n",
    "# Check the unique values of the target to ensure it's not continuous\n",
    "print(y.unique())"
   ]
  },
  {
   "cell_type": "code",
   "execution_count": 20,
   "metadata": {},
   "outputs": [],
   "source": [
    "# Assuming 'FraudResult' has a threshold (for example, above 0.5 is fraud, below is not):\n",
    "y_binarized = (y > 0.5).astype(int)"
   ]
  },
  {
   "cell_type": "code",
   "execution_count": 21,
   "metadata": {},
   "outputs": [],
   "source": [
    "X_train, X_test, y_train, y_test = train_test_split(X_scaled, y_binarized, test_size=0.3, random_state=42)\n"
   ]
  },
  {
   "cell_type": "markdown",
   "metadata": {},
   "source": [
    "# Train and Evaluate Models\n"
   ]
  },
  {
   "cell_type": "code",
   "execution_count": 22,
   "metadata": {},
   "outputs": [],
   "source": [
    "# Fit models\n",
    "models = {\n",
    "    'Logistic Regression': LogisticRegression(),\n",
    "    'Random Forest': RandomForestClassifier(),\n",
    "        \"Decision Tree\": DecisionTreeClassifier(),\n",
    "\n",
    "}\n",
    "\n"
   ]
  },
  {
   "cell_type": "code",
   "execution_count": 23,
   "metadata": {},
   "outputs": [
    {
     "name": "stdout",
     "output_type": "stream",
     "text": [
      "Model: Logistic Regression\n",
      "Accuracy: 0.9430097951914514\n",
      "ROC AUC Score: 0.5076923076923077\n",
      "Confusion Matrix:\n",
      " [[1058    0]\n",
      " [  64    1]]\n",
      "Classification Report:\n",
      "               precision    recall  f1-score   support\n",
      "\n",
      "           0       0.94      1.00      0.97      1058\n",
      "           1       1.00      0.02      0.03        65\n",
      "\n",
      "    accuracy                           0.94      1123\n",
      "   macro avg       0.97      0.51      0.50      1123\n",
      "weighted avg       0.95      0.94      0.92      1123\n",
      "\n",
      "Model: Random Forest\n",
      "Accuracy: 0.9991095280498664\n",
      "ROC AUC Score: 0.9923076923076923\n",
      "Confusion Matrix:\n",
      " [[1058    0]\n",
      " [   1   64]]\n",
      "Classification Report:\n",
      "               precision    recall  f1-score   support\n",
      "\n",
      "           0       1.00      1.00      1.00      1058\n",
      "           1       1.00      0.98      0.99        65\n",
      "\n",
      "    accuracy                           1.00      1123\n",
      "   macro avg       1.00      0.99      1.00      1123\n",
      "weighted avg       1.00      1.00      1.00      1123\n",
      "\n",
      "Model: Decision Tree\n",
      "Accuracy: 0.9991095280498664\n",
      "ROC AUC Score: 0.9923076923076923\n",
      "Confusion Matrix:\n",
      " [[1058    0]\n",
      " [   1   64]]\n",
      "Classification Report:\n",
      "               precision    recall  f1-score   support\n",
      "\n",
      "           0       1.00      1.00      1.00      1058\n",
      "           1       1.00      0.98      0.99        65\n",
      "\n",
      "    accuracy                           1.00      1123\n",
      "   macro avg       1.00      0.99      1.00      1123\n",
      "weighted avg       1.00      1.00      1.00      1123\n",
      "\n"
     ]
    }
   ],
   "source": [
    "for name, model in models.items():\n",
    "    model.fit(X_train, y_train)\n",
    "    y_pred = model.predict(X_test)\n",
    "    \n",
    "    \n",
    "    print(f\"Model: {name}\")\n",
    "    print(\"Accuracy:\", accuracy_score(y_test, y_pred))\n",
    "    print(\"ROC AUC Score:\", roc_auc_score(y_test, y_pred))\n",
    "    print(\"Confusion Matrix:\\n\", confusion_matrix(y_test, y_pred))\n",
    "    print(\"Classification Report:\\n\", classification_report(y_test, y_pred))\n",
    "\n",
    "    "
   ]
  },
  {
   "cell_type": "code",
   "execution_count": 49,
   "metadata": {},
   "outputs": [
    {
     "name": "stdout",
     "output_type": "stream",
     "text": [
      "Modelling Completed.\n"
     ]
    }
   ],
   "source": [
    "# Save the best model (for API serving)\n",
    "best_model = RandomForestClassifier(n_estimators=100, max_depth=20, random_state=42)\n",
    "best_model.fit(X_train, y_train)\n",
    "joblib.dump(best_model, 'best_model.pkl')\n",
    "joblib.dump(scaler, 'scaler.pkl')\n",
    "\n",
    "print(\"Modelling Completed.\")"
   ]
  },
  {
   "cell_type": "code",
   "execution_count": 26,
   "metadata": {},
   "outputs": [
    {
     "name": "stdout",
     "output_type": "stream",
     "text": [
      "\n",
      "Training Logistic Regression...\n",
      "Model: Logistic Regression\n",
      "Accuracy: 1.0\n",
      "ROC AUC Score: 1.0\n",
      "Confusion Matrix:\n",
      " [[708   0]\n",
      " [  0  41]]\n",
      "Classification Report:\n",
      "               precision    recall  f1-score   support\n",
      "\n",
      "           0       1.00      1.00      1.00       708\n",
      "           1       1.00      1.00      1.00        41\n",
      "\n",
      "    accuracy                           1.00       749\n",
      "   macro avg       1.00      1.00      1.00       749\n",
      "weighted avg       1.00      1.00      1.00       749\n",
      "\n",
      "\n",
      "Training Random Forest...\n",
      "Model: Random Forest\n",
      "Accuracy: 1.0\n",
      "ROC AUC Score: 1.0\n",
      "Confusion Matrix:\n",
      " [[708   0]\n",
      " [  0  41]]\n",
      "Classification Report:\n",
      "               precision    recall  f1-score   support\n",
      "\n",
      "           0       1.00      1.00      1.00       708\n",
      "           1       1.00      1.00      1.00        41\n",
      "\n",
      "    accuracy                           1.00       749\n",
      "   macro avg       1.00      1.00      1.00       749\n",
      "weighted avg       1.00      1.00      1.00       749\n",
      "\n",
      "\n",
      "Training Decision Tree...\n",
      "Model: Decision Tree\n",
      "Accuracy: 1.0\n",
      "ROC AUC Score: 1.0\n",
      "Confusion Matrix:\n",
      " [[708   0]\n",
      " [  0  41]]\n",
      "Classification Report:\n",
      "               precision    recall  f1-score   support\n",
      "\n",
      "           0       1.00      1.00      1.00       708\n",
      "           1       1.00      1.00      1.00        41\n",
      "\n",
      "    accuracy                           1.00       749\n",
      "   macro avg       1.00      1.00      1.00       749\n",
      "weighted avg       1.00      1.00      1.00       749\n",
      "\n"
     ]
    }
   ],
   "source": [
    "# Step 1: Import necessary libraries\n",
    "from imblearn.over_sampling import SMOTE\n",
    "from sklearn.model_selection import train_test_split\n",
    "from sklearn.linear_model import LogisticRegression\n",
    "from sklearn.ensemble import RandomForestClassifier\n",
    "from sklearn.tree import DecisionTreeClassifier\n",
    "from sklearn.metrics import classification_report, confusion_matrix, accuracy_score, roc_auc_score\n",
    "\n",
    "# Step 2: Define your models in a dictionary\n",
    "models = {\n",
    "    'Logistic Regression': LogisticRegression(max_iter=1000),\n",
    "    'Random Forest': RandomForestClassifier(),\n",
    "    'Decision Tree': DecisionTreeClassifier(),\n",
    "}\n",
    "\n",
    "# Step 3: Split the data into training and testing sets\n",
    "X_train, X_test, y_train, y_test = train_test_split(X, y, test_size=0.2, random_state=42, stratify=y)\n",
    "\n",
    "# Step 4: Apply SMOTE to the training set\n",
    "smote = SMOTE(random_state=42)\n",
    "X_train_smote, y_train_smote = smote.fit_resample(X_train, y_train)\n",
    "\n",
    "# Step 5: Loop through each model, train, and evaluate it\n",
    "for name, model in models.items():\n",
    "    print(f\"\\nTraining {name}...\")\n",
    "    \n",
    "    # Train the model on the SMOTE-balanced data\n",
    "    model.fit(X_train_smote, y_train_smote)\n",
    "    \n",
    "    # Make predictions on the test set\n",
    "    y_pred = model.predict(X_test)\n",
    "    \n",
    "    # Evaluate the model's performance\n",
    "    print(f\"Model: {name}\")\n",
    "    print(\"Accuracy:\", accuracy_score(y_test, y_pred))\n",
    "    print(\"ROC AUC Score:\", roc_auc_score(y_test, model.predict_proba(X_test)[:, 1]))\n",
    "    print(\"Confusion Matrix:\\n\", confusion_matrix(y_test, y_pred))\n",
    "    print(\"Classification Report:\\n\", classification_report(y_test, y_pred))\n"
   ]
  },
  {
   "cell_type": "code",
   "execution_count": 27,
   "metadata": {},
   "outputs": [
    {
     "name": "stdout",
     "output_type": "stream",
     "text": [
      "Cross-validation Accuracy scores: [0.99929379 1.         1.         1.         1.        ]\n",
      "Mean CV Accuracy: 0.9998587570621469\n"
     ]
    }
   ],
   "source": [
    "from sklearn.model_selection import cross_val_score\n",
    "\n",
    "smote = SMOTE(random_state=42)\n",
    "X_smote, y_smote = smote.fit_resample(X, y)\n",
    "\n",
    "model = LogisticRegression(max_iter=1000)\n",
    "\n",
    "# Perform cross-validation on the SMOTE-balanced data\n",
    "cv_scores = cross_val_score(model, X_smote, y_smote, cv=5, scoring='accuracy')\n",
    "\n",
    "print(\"Cross-validation Accuracy scores:\", cv_scores)\n",
    "print(\"Mean CV Accuracy:\", cv_scores.mean())\n"
   ]
  },
  {
   "cell_type": "code",
   "execution_count": 28,
   "metadata": {},
   "outputs": [
    {
     "name": "stdout",
     "output_type": "stream",
     "text": [
      "Modelling Completed.\n"
     ]
    }
   ],
   "source": [
    "# Save the best model (for API serving)\n",
    "best_model = RandomForestClassifier(n_estimators=100, max_depth=20, random_state=42)\n",
    "best_model.fit(X_train, y_train)\n",
    "joblib.dump(best_model, 'best_model1.pkl')\n",
    "# joblib.dump(scaler, 'scaler.pkl')\n",
    "\n",
    "print(\"Modelling Completed.\")"
   ]
  },
  {
   "cell_type": "code",
   "execution_count": null,
   "metadata": {},
   "outputs": [],
   "source": []
  }
 ],
 "metadata": {
  "kernelspec": {
   "display_name": "venv",
   "language": "python",
   "name": "python3"
  },
  "language_info": {
   "codemirror_mode": {
    "name": "ipython",
    "version": 3
   },
   "file_extension": ".py",
   "mimetype": "text/x-python",
   "name": "python",
   "nbconvert_exporter": "python",
   "pygments_lexer": "ipython3",
   "version": "3.12.7"
  }
 },
 "nbformat": 4,
 "nbformat_minor": 2
}
