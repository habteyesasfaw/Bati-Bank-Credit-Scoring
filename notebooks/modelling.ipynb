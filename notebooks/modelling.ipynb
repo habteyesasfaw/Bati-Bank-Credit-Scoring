{
 "cells": [
  {
   "cell_type": "markdown",
   "metadata": {},
   "source": [
    "# Importing required libraries\n"
   ]
  },
  {
   "cell_type": "code",
   "execution_count": 47,
   "metadata": {},
   "outputs": [],
   "source": [
    "import pandas as pd\n",
    "from sklearn.model_selection import train_test_split\n",
    "from sklearn.ensemble import RandomForestClassifier\n",
    "from sklearn.linear_model import LogisticRegression\n",
    "from sklearn.tree import DecisionTreeClassifier\n",
    "from sklearn.metrics import classification_report, roc_auc_score, confusion_matrix, accuracy_score\n",
    "from sklearn.preprocessing import LabelEncoder, StandardScaler\n",
    "import joblib\n",
    "\n"
   ]
  },
  {
   "cell_type": "markdown",
   "metadata": {},
   "source": [
    "# Load the feature-engineered dataset\n"
   ]
  },
  {
   "cell_type": "code",
   "execution_count": 22,
   "metadata": {},
   "outputs": [],
   "source": [
    "df = pd.read_csv('../data/feature_engineered_data.csv')"
   ]
  },
  {
   "cell_type": "code",
   "execution_count": null,
   "metadata": {},
   "outputs": [],
   "source": [
    "# Identify categorical columns\n",
    "categorical_columns = df.select_dtypes(include=['object']).columns\n",
    "\n",
    "# Use Label Encoding for high-cardinality categorical columns\n",
    "label_encoder = LabelEncoder()"
   ]
  },
  {
   "cell_type": "code",
   "execution_count": 32,
   "metadata": {},
   "outputs": [
    {
     "name": "stdout",
     "output_type": "stream",
     "text": [
      "Encoding high-cardinality column: TransactionId with 95662 unique values.\n",
      "Encoding high-cardinality column: BatchId with 94809 unique values.\n",
      "Encoding high-cardinality column: AccountId with 3633 unique values.\n",
      "Encoding high-cardinality column: SubscriptionId with 3627 unique values.\n",
      "Encoding high-cardinality column: CustomerId with 3742 unique values.\n",
      "Encoding high-cardinality column: TransactionStartTime with 94556 unique values.\n"
     ]
    }
   ],
   "source": [
    "# Identify categorical columns\n",
    "categorical_columns = df.select_dtypes(include=['object']).columns\n",
    "\n",
    "# Check if there are any categorical columns\n",
    "if len(categorical_columns) > 0:\n",
    "    # Use Label Encoding for high-cardinality categorical columns\n",
    "    label_encoder = LabelEncoder()\n",
    "\n",
    "    # Loop through the categorical columns and apply LabelEncoder where appropriate\n",
    "    for col in categorical_columns:\n",
    "        unique_vals = df[col].nunique()\n",
    "        if unique_vals > 100:  # Threshold for high cardinality (adjust if necessary)\n",
    "            print(f\"Encoding high-cardinality column: {col} with {unique_vals} unique values.\")\n",
    "            df[col] = label_encoder.fit_transform(df[col])\n",
    "        else:\n",
    "            # For low-cardinality columns, use One-Hot Encoding\n",
    "            df = pd.get_dummies(df, columns=[col], drop_first=True)\n",
    "else:\n",
    "    print(\"No categorical columns found.\")"
   ]
  },
  {
   "cell_type": "code",
   "execution_count": 33,
   "metadata": {},
   "outputs": [],
   "source": [
    "# Define target and features\n",
    "X = df.drop(columns='FraudResult')  # Assuming 'FraudResult' is the target variable\n",
    "y = df['FraudResult']"
   ]
  },
  {
   "cell_type": "code",
   "execution_count": 34,
   "metadata": {},
   "outputs": [],
   "source": [
    "# Standardize the numeric features\n",
    "scaler = StandardScaler()\n",
    "X_scaled = scaler.fit_transform(X)\n",
    "\n",
    "# Split the data into train and test sets\n",
    "X_train, X_test, y_train, y_test = train_test_split(X_scaled, y, test_size=0.3, random_state=42)\n"
   ]
  },
  {
   "cell_type": "code",
   "execution_count": 37,
   "metadata": {},
   "outputs": [
    {
     "name": "stdout",
     "output_type": "stream",
     "text": [
      "[-0.04496219 22.24090895]\n"
     ]
    }
   ],
   "source": [
    "# Ensure target is categorical\n",
    "y = df['FraudResult']\n",
    "\n",
    "# Check the unique values of the target to ensure it's not continuous\n",
    "print(y.unique())"
   ]
  },
  {
   "cell_type": "code",
   "execution_count": 38,
   "metadata": {},
   "outputs": [],
   "source": [
    "# Assuming 'FraudResult' has a threshold (for example, above 0.5 is fraud, below is not):\n",
    "y_binarized = (y > 0.5).astype(int)"
   ]
  },
  {
   "cell_type": "code",
   "execution_count": 39,
   "metadata": {},
   "outputs": [],
   "source": [
    "X_train, X_test, y_train, y_test = train_test_split(X_scaled, y_binarized, test_size=0.3, random_state=42)\n"
   ]
  },
  {
   "cell_type": "markdown",
   "metadata": {},
   "source": [
    "# Train and Evaluate Models\n"
   ]
  },
  {
   "cell_type": "code",
   "execution_count": 44,
   "metadata": {},
   "outputs": [],
   "source": [
    "# Fit models\n",
    "models = {\n",
    "    'Logistic Regression': LogisticRegression(),\n",
    "    'Random Forest': RandomForestClassifier(),\n",
    "        \"Decision Tree\": DecisionTreeClassifier(),\n",
    "\n",
    "}\n",
    "\n"
   ]
  },
  {
   "cell_type": "code",
   "execution_count": 45,
   "metadata": {},
   "outputs": [
    {
     "name": "stdout",
     "output_type": "stream",
     "text": [
      "Model: Logistic Regression\n",
      "Accuracy: 0.9981532457576919\n",
      "ROC AUC Score: 0.6515413264771748\n",
      "Confusion Matrix:\n",
      " [[28629    14]\n",
      " [   39    17]]\n",
      "Classification Report:\n",
      "               precision    recall  f1-score   support\n",
      "\n",
      "           0       1.00      1.00      1.00     28643\n",
      "           1       0.55      0.30      0.39        56\n",
      "\n",
      "    accuracy                           1.00     28699\n",
      "   macro avg       0.77      0.65      0.69     28699\n",
      "weighted avg       1.00      1.00      1.00     28699\n",
      "\n",
      "Model: Random Forest\n",
      "Accuracy: 0.9995470225443395\n",
      "ROC AUC Score: 0.9552174926808344\n",
      "Confusion Matrix:\n",
      " [[28635     8]\n",
      " [    5    51]]\n",
      "Classification Report:\n",
      "               precision    recall  f1-score   support\n",
      "\n",
      "           0       1.00      1.00      1.00     28643\n",
      "           1       0.86      0.91      0.89        56\n",
      "\n",
      "    accuracy                           1.00     28699\n",
      "   macro avg       0.93      0.96      0.94     28699\n",
      "weighted avg       1.00      1.00      1.00     28699\n",
      "\n",
      "Model: Decision Tree\n",
      "Accuracy: 0.9993031116066762\n",
      "ROC AUC Score: 0.9105397229939003\n",
      "Confusion Matrix:\n",
      " [[28633    10]\n",
      " [   10    46]]\n",
      "Classification Report:\n",
      "               precision    recall  f1-score   support\n",
      "\n",
      "           0       1.00      1.00      1.00     28643\n",
      "           1       0.82      0.82      0.82        56\n",
      "\n",
      "    accuracy                           1.00     28699\n",
      "   macro avg       0.91      0.91      0.91     28699\n",
      "weighted avg       1.00      1.00      1.00     28699\n",
      "\n"
     ]
    }
   ],
   "source": [
    "for name, model in models.items():\n",
    "    model.fit(X_train, y_train)\n",
    "    y_pred = model.predict(X_test)\n",
    "    \n",
    "    \n",
    "    print(f\"Model: {name}\")\n",
    "    print(\"Accuracy:\", accuracy_score(y_test, y_pred))\n",
    "    print(\"ROC AUC Score:\", roc_auc_score(y_test, y_pred))\n",
    "    print(\"Confusion Matrix:\\n\", confusion_matrix(y_test, y_pred))\n",
    "    print(\"Classification Report:\\n\", classification_report(y_test, y_pred))\n",
    "\n",
    "    "
   ]
  },
  {
   "cell_type": "code",
   "execution_count": 48,
   "metadata": {},
   "outputs": [
    {
     "name": "stdout",
     "output_type": "stream",
     "text": [
      "Modelling Completed.\n"
     ]
    }
   ],
   "source": [
    "# Save the best model (for API serving)\n",
    "best_model = RandomForestClassifier(n_estimators=100, max_depth=20, random_state=42)\n",
    "best_model.fit(X_train, y_train)\n",
    "joblib.dump(best_model, 'best_model.pkl')\n",
    "\n",
    "print(\"Modelling Completed.\")"
   ]
  }
 ],
 "metadata": {
  "kernelspec": {
   "display_name": "venv",
   "language": "python",
   "name": "python3"
  },
  "language_info": {
   "codemirror_mode": {
    "name": "ipython",
    "version": 3
   },
   "file_extension": ".py",
   "mimetype": "text/x-python",
   "name": "python",
   "nbconvert_exporter": "python",
   "pygments_lexer": "ipython3",
   "version": "3.12.7"
  }
 },
 "nbformat": 4,
 "nbformat_minor": 2
}
